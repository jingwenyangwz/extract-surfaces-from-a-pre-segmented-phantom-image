{
  "cells": [
    {
      "cell_type": "markdown",
      "metadata": {
        "pycharm": {}
      },
      "source": [
        "# Shepp Logan phantom and 3D surface extraction"
      ]
    },
    {
      "cell_type": "markdown",
      "metadata": {
        "pycharm": {}
      },
      "source": [
        "The goal of this assignment is to be able to extract surfaces from a pre-segmented phantom image. This phantom is the famous Shepp Logan phantom (https://en.wikipedia.org/wiki/Shepp%E2%80%93Logan_phantom). \n",
        "The file format of this pre-segmented phantom is PGM3D. This is an extension of the common PGM format."
      ]
    },
    {
      "cell_type": "markdown",
      "metadata": {
        "pycharm": {}
      },
      "source": [
        "The header is the following :\n",
        "\n",
        "    PGM3D #keyword to identify the file format\n",
        "\n",
        "    x y z #size of the 3D image\n",
        "    \n",
        "    max #maximum greylevel\n",
        "    \n",
        "    DATA #x*y*z grey values \n",
        "    \n",
        "You can download the file at : http://dept-info.labri.fr/~desbarat/ARM/shepplogan.pgm3d"
      ]
    },
    {
      "cell_type": "markdown",
      "metadata": {
        "pycharm": {}
      },
      "source": [
        "**Reading the PGM3D file (2pts)**\n",
        "\n",
        "Step 1. Import the libraries needed to read files from the filesystem."
      ]
    },
    {
      "cell_type": "code",
      "execution_count": 1,
      "metadata": {
        "pycharm": {
          "is_executing": false
        }
      },
      "outputs": [],
      "source": "import numpy as np"
    },
    {
      "cell_type": "markdown",
      "metadata": {
        "pycharm": {}
      },
      "source": [
        "Step 2. Collect the data from the header."
      ]
    },
    {
      "cell_type": "code",
      "execution_count": 3,
      "metadata": {
        "pycharm": {
          "is_executing": false
        }
      },
      "outputs": [],
      "source": "file1 \u003d open(\u0027data.pgm3d\u0027, \u0027r\u0027)\nszoveg \u003d file1.read()\nlista \u003d szoveg.split(\"\\n\")\nh,w,d \u003d lista[1].split(\" \")\nh,w,d \u003d int(h),int(w),int(d)\nlist_array \u003d np.array(lista[3:-1], dtype\u003dint)\npixels \u003d np.reshape(list_array, (h,w,d))"
    },
    {
      "cell_type": "markdown",
      "metadata": {
        "pycharm": {}
      },
      "source": [
        "Step 3. Put the data values in a 3D numpy array."
      ]
    },
    {
      "cell_type": "code",
      "execution_count": 19,
      "metadata": {
        "pycharm": {
          "is_executing": false
        }
      },
      "outputs": [
        {
          "traceback": [
            "\u001b[1;31m---------------------------------------------------------------------------\u001b[0m",
            "\u001b[1;31mKeyboardInterrupt\u001b[0m                         Traceback (most recent call last)",
            "\u001b[1;32m\u003cipython-input-19-82e8a405a371\u003e\u001b[0m in \u001b[0;36m\u003cmodule\u003e\u001b[1;34m\u001b[0m\n\u001b[0;32m      4\u001b[0m \u001b[1;33m\u001b[0m\u001b[0m\n\u001b[0;32m      5\u001b[0m \u001b[0mtmp\u001b[0m \u001b[1;33m\u003d\u001b[0m \u001b[0mpixels\u001b[0m\u001b[1;33m.\u001b[0m\u001b[0mflatten\u001b[0m\u001b[1;33m(\u001b[0m\u001b[1;33m)\u001b[0m\u001b[1;33m\u001b[0m\u001b[1;33m\u001b[0m\u001b[0m\n\u001b[1;32m----\u003e 6\u001b[1;33m \u001b[0mplt\u001b[0m\u001b[1;33m.\u001b[0m\u001b[0mhist\u001b[0m\u001b[1;33m(\u001b[0m\u001b[0mtmp\u001b[0m\u001b[1;33m,\u001b[0m \u001b[0mbins\u001b[0m\u001b[1;33m\u003d\u001b[0m\u001b[1;36m255\u001b[0m\u001b[1;33m)\u001b[0m\u001b[1;33m\u001b[0m\u001b[1;33m\u001b[0m\u001b[0m\n\u001b[0m\u001b[0;32m      7\u001b[0m \u001b[0mplt\u001b[0m\u001b[1;33m.\u001b[0m\u001b[0mshow\u001b[0m\u001b[1;33m(\u001b[0m\u001b[1;33m)\u001b[0m\u001b[1;33m\u001b[0m\u001b[1;33m\u001b[0m\u001b[0m\n",
            "\u001b[1;32m\u003cipython-input-19-82e8a405a371\u003e\u001b[0m in \u001b[0;36m\u003cmodule\u003e\u001b[1;34m\u001b[0m\n\u001b[0;32m      4\u001b[0m \u001b[1;33m\u001b[0m\u001b[0m\n\u001b[0;32m      5\u001b[0m \u001b[0mtmp\u001b[0m \u001b[1;33m\u003d\u001b[0m \u001b[0mpixels\u001b[0m\u001b[1;33m.\u001b[0m\u001b[0mflatten\u001b[0m\u001b[1;33m(\u001b[0m\u001b[1;33m)\u001b[0m\u001b[1;33m\u001b[0m\u001b[1;33m\u001b[0m\u001b[0m\n\u001b[1;32m----\u003e 6\u001b[1;33m \u001b[0mplt\u001b[0m\u001b[1;33m.\u001b[0m\u001b[0mhist\u001b[0m\u001b[1;33m(\u001b[0m\u001b[0mtmp\u001b[0m\u001b[1;33m,\u001b[0m \u001b[0mbins\u001b[0m\u001b[1;33m\u003d\u001b[0m\u001b[1;36m255\u001b[0m\u001b[1;33m)\u001b[0m\u001b[1;33m\u001b[0m\u001b[1;33m\u001b[0m\u001b[0m\n\u001b[0m\u001b[0;32m      7\u001b[0m \u001b[0mplt\u001b[0m\u001b[1;33m.\u001b[0m\u001b[0mshow\u001b[0m\u001b[1;33m(\u001b[0m\u001b[1;33m)\u001b[0m\u001b[1;33m\u001b[0m\u001b[1;33m\u001b[0m\u001b[0m\n",
            "\u001b[1;32m_pydevd_bundle\\pydevd_cython_win32_36_64.pyx\u001b[0m in \u001b[0;36m_pydevd_bundle.pydevd_cython_win32_36_64.SafeCallWrapper.__call__\u001b[1;34m()\u001b[0m\n",
            "\u001b[1;32m_pydevd_bundle\\pydevd_cython_win32_36_64.pyx\u001b[0m in \u001b[0;36m_pydevd_bundle.pydevd_cython_win32_36_64.PyDBFrame.trace_dispatch\u001b[1;34m()\u001b[0m\n",
            "\u001b[1;32m_pydevd_bundle\\pydevd_cython_win32_36_64.pyx\u001b[0m in \u001b[0;36m_pydevd_bundle.pydevd_cython_win32_36_64.PyDBFrame.trace_dispatch\u001b[1;34m()\u001b[0m\n",
            "\u001b[1;32m_pydevd_bundle\\pydevd_cython_win32_36_64.pyx\u001b[0m in \u001b[0;36m_pydevd_bundle.pydevd_cython_win32_36_64.PyDBFrame.trace_dispatch\u001b[1;34m()\u001b[0m\n",
            "\u001b[1;32m_pydevd_bundle\\pydevd_cython_win32_36_64.pyx\u001b[0m in \u001b[0;36m_pydevd_bundle.pydevd_cython_win32_36_64.PyDBFrame.do_wait_suspend\u001b[1;34m()\u001b[0m\n",
            "\u001b[1;32mC:\\Program Files\\JetBrains\\PyCharm 2018.3.5\\helpers\\pydev\\pydevd.py\u001b[0m in \u001b[0;36mdo_wait_suspend\u001b[1;34m(self, thread, frame, event, arg, suspend_type, send_suspend_message)\u001b[0m\n\u001b[0;32m    875\u001b[0m \u001b[1;33m\u001b[0m\u001b[0m\n\u001b[0;32m    876\u001b[0m             \u001b[0mself\u001b[0m\u001b[1;33m.\u001b[0m\u001b[0mprocess_internal_commands\u001b[0m\u001b[1;33m(\u001b[0m\u001b[1;33m)\u001b[0m\u001b[1;33m\u001b[0m\u001b[1;33m\u001b[0m\u001b[0m\n\u001b[1;32m--\u003e 877\u001b[1;33m             \u001b[0mtime\u001b[0m\u001b[1;33m.\u001b[0m\u001b[0msleep\u001b[0m\u001b[1;33m(\u001b[0m\u001b[1;36m0.01\u001b[0m\u001b[1;33m)\u001b[0m\u001b[1;33m\u001b[0m\u001b[1;33m\u001b[0m\u001b[0m\n\u001b[0m\u001b[0;32m    878\u001b[0m \u001b[1;33m\u001b[0m\u001b[0m\n\u001b[0;32m    879\u001b[0m         \u001b[0mself\u001b[0m\u001b[1;33m.\u001b[0m\u001b[0mcancel_async_evaluation\u001b[0m\u001b[1;33m(\u001b[0m\u001b[0mget_thread_id\u001b[0m\u001b[1;33m(\u001b[0m\u001b[0mthread\u001b[0m\u001b[1;33m)\u001b[0m\u001b[1;33m,\u001b[0m \u001b[0mstr\u001b[0m\u001b[1;33m(\u001b[0m\u001b[0mid\u001b[0m\u001b[1;33m(\u001b[0m\u001b[0mframe\u001b[0m\u001b[1;33m)\u001b[0m\u001b[1;33m)\u001b[0m\u001b[1;33m)\u001b[0m\u001b[1;33m\u001b[0m\u001b[1;33m\u001b[0m\u001b[0m\n",
            "\u001b[1;31mKeyboardInterrupt\u001b[0m: "
          ],
          "ename": "KeyboardInterrupt",
          "evalue": "",
          "output_type": "error"
        }
      ],
      "source": "import matplotlib.pyplot as plt\n\npixels \u003d np.reshape(list_array, (h,w,d))\n\ntmp \u003d pixels.flatten()\nplt.hist(tmp, bins\u003d255)\nplt.show()"
    },
    {
      "cell_type": "markdown",
      "metadata": {
        "pycharm": {}
      },
      "source": [
        "**Exporting an OBJ file (2pts)**\n",
        "\n",
        "The OBJ file format allow to describe a 3D mesh from a list of vertices and how they are linked to create faces.\n",
        "\n",
        "It\u0027s an ASCII file format that can be resumed as such :\n",
        "\n",
        "    #List of all vertices\n",
        "\n",
        "    v x1 y1 z1\n",
        "\n",
        "    v x2 y2 z2\n",
        "\n",
        "    v x3 y3 z3\n",
        "\n",
        "    #List of all faces\n",
        "\n",
        "    f 1 2 3\n",
        "\n",
        "This create 3 vertices that are linked together to create one face.\n",
        "\n",
        "Step 4. Create two arrays, that represent the vertices and the faces needed to create a cube of size 1x1x1. Even if it is possible to create polygons with more than 3 vertices in an OBJ, you should only use triangles for your faces."
      ]
    },
    {
      "cell_type": "code",
      "execution_count": 9,
      "metadata": {
        "pycharm": {
          "is_executing": false
        }
      },
      "outputs": [],
      "source": "verticies \u003d np.array([\n    [0.5, 0.5, 0.5],\n    [0.5, 0.5, -0.5],\n    [0.5, -0.5, -0.5],\n    [0.5, -0.5, 0.5],\n    [-0.5, 0.5, 0.5],\n    [-0.5, 0.5, -0.5],\n    [-0.5, -0.5, -0.5],\n    [-0.5, -0.5, 0.5]\n])\n\n\nfaces \u003d np.array([\n    [1, 3, 2],\n    [1, 4, 3],\n    [1, 2, 5],\n    [2, 3, 6],\n    [6, 3, 7],\n    [1, 4, 5],\n    [5, 2, 6],\n    [5, 6, 7],\n    [5, 7, 8],\n    [4, 8, 7],\n    [4, 7, 3]\n]   \n)\n"
    },
    {
      "cell_type": "markdown",
      "metadata": {
        "pycharm": {}
      },
      "source": [
        "Step 5. Write a function that take a vertice array and a face array (and a filename), and write and OBJ file that represent the mesh described by thoses arrays."
      ]
    },
    {
      "cell_type": "code",
      "execution_count": 10,
      "metadata": {
        "pycharm": {
          "is_executing": false
        }
      },
      "outputs": [],
      "source": "def create_obj(verticies, faces):\n    h,w \u003d verticies.shape\n    h_f, w_f \u003d faces.shape\n    f \u003d open(\u0027test.obj\u0027,\u0027w\u0027)\n    for i in range(h):\n        f.write(\u0027v \u0027 + str(float(verticies[i,0])) + \u0027 \u0027 + str(float(verticies[i,1])) + \u0027 \u0027 + str(float(verticies[i,2])) + \u0027\\n\u0027)\n    for i in range(h_f):\n        f.write(\u0027f \u0027 + str(int(faces[i,0])) + \u0027 \u0027 + str(int(faces[i,1])) + \u0027 \u0027 + str(int(faces[i,2])) + \u0027\\n\u0027)    \n    f.close()"
    },
    {
      "cell_type": "markdown",
      "metadata": {
        "pycharm": {}
      },
      "source": [
        "Step 6. Use this function to create an OBJ file from thoses arrays, and import it in MeshLab (https://www.meshlab.net/#download) to see if the result is correct. "
      ]
    },
    {
      "cell_type": "code",
      "execution_count": 11,
      "metadata": {
        "pycharm": {
          "is_executing": false
        }
      },
      "outputs": [],
      "source": "create_obj(verticies, faces)\n"
    },
    {
      "cell_type": "markdown",
      "metadata": {
        "pycharm": {}
      },
      "source": [
        "**Exporting the PGM3D as an OBJ file (4pts, if the final part if not done)**\n",
        "\n",
        "Now we will create an OBJ file from the 3D array.\n",
        "\n",
        "We need to extract inter-voxels boundaries from different regions of the 3D image. The goal is to extract the squares between voxels of different labels and create a mesh with these faces.\n",
        "\n",
        "To do so, you can :\n",
        "- Segment the matrix in a certain number of label that each represent a range of values.\n",
        "- Iterate over the voxels, and for each neighboor, if it\u0027s a different label, append the vertices and faces that represent the square that separate them to two array (list of vertices and list of faces).\n",
        "- Export the two arrays into an OBJ.\n",
        "\n",
        "You need to take care to not consider the values outside of the volume (close or equal to zero). They do not count as a label. \n",
        "\n",
        "Step 7. Create a pgm3d_to_obj.py program that take as arguments a pgm3d file and the number of labels, and output an OBJ file containing the boundaries between thoses labels. You can use MeshLab to display your result."
      ]
    },
    {
      "source": [
        "**Splitting and coloring the mesh (6pts)**\n",
        "\n",
        "The final task of the assignment is to split each label into a separate OBJ file with an unique color each.\n",
        "\n",
        "To assign a color to an OBJ, you have to create a material in a separate MTL file. \n",
        "The structure of a MTL file is the following : \n",
        "\n",
        "    newmtl MaterialName1\n",
        "        [Param1] [Value]\n",
        "        [Param2] [Value]\n",
        "    newmtl MaterialName2\n",
        "        [Param3] [Value]\n",
        "        [Param4] [Value]\n",
        "\n",
        "For exemple, to create a material with a red diffuse color :\n",
        "\n",
        "    newmtl mat1\n",
        "        Kd 1.0 0.0 0.0\n",
        "\n",
        "To include an MTL and attribute a material from an OBJ, you have to first include the MTL\n",
        "\n",
        "    mtllib file.mtl\n",
        "\n",
        "And then select the material used :\n",
        "\n",
        "    usemtl mat1\n",
        "\n",
        "Step 8. Still in the pgm3d_to_obj.py, modify the program to output one OBJ by label (label1.obj, label2.obj, ...) and one MTL file that contains all materials. Each OBJ have to include the MTL file and have an unique color (remember that you have to handle an arbitrary number of labels). You can display the final result by importing all OBJ in MeshLab and hiding some mesh by clicking the eye (upper-right corner)."
      ],
      "cell_type": "markdown",
      "metadata": {
        "pycharm": {}
      }
    },
    {
      "source": [
        "** The quality of the code will be taken into account. The program have to be a functionnal command-line program called by \"./program arguments\" and displaying the [usage](https://en.wikipedia.org/wiki/Usage_message) if needed.**\n",
        "\n",
        "**The code have to be readable (decent variable names, splitted into functions, no gigantic functions that handle everything, avoid hard-coded constants. Add comments where you think it\u0027s needed.**\n",
        "\n",
        "**It should also handle potential errors correctly and not crash if one occur.**"
      ],
      "cell_type": "markdown",
      "metadata": {
        "pycharm": {}
      }
    }
  ],
  "metadata": {
    "kernelspec": {
      "display_name": "Python 3",
      "language": "python",
      "name": "python3"
    },
    "language_info": {
      "codemirror_mode": {
        "name": "ipython",
        "version": 3
      },
      "file_extension": ".py",
      "mimetype": "text/x-python",
      "name": "python",
      "nbconvert_exporter": "python",
      "pygments_lexer": "ipython3",
      "version": "3.8.3"
    }
  },
  "nbformat": 4,
  "nbformat_minor": 4
}